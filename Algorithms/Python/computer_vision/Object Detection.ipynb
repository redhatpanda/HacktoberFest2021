{
 "cells": [
  {
   "cell_type": "markdown",
   "metadata": {},
   "source": [
    "# Author: Ankit Kumar\n",
    "\n",
    "\n",
    "# Object Detection"
   ]
  },
  {
   "cell_type": "markdown",
   "metadata": {},
   "source": [
    "# Importing Library"
   ]
  },
  {
   "cell_type": "code",
   "execution_count": null,
   "metadata": {},
   "outputs": [],
   "source": [
    "import cv2 as cv"
   ]
  },
  {
   "cell_type": "markdown",
   "metadata": {},
   "source": [
    "# Importing Models"
   ]
  },
  {
   "cell_type": "code",
   "execution_count": null,
   "metadata": {},
   "outputs": [],
   "source": [
    "config = \"ssd_mobilenet_v3_large_coco_2020_01_14.pbtxt\"\n",
    "forozen = \"frozen_inference_graph.pb\"\n",
    "model = cv.dnn_DetectionModel(forozen, config)"
   ]
  },
  {
   "cell_type": "markdown",
   "metadata": {},
   "source": [
    "# Labeling objects"
   ]
  },
  {
   "cell_type": "code",
   "execution_count": null,
   "metadata": {},
   "outputs": [],
   "source": [
    "label = []\n",
    "file = \"Item Name.txt\"\n",
    "with open(file, \"rt\") as item:\n",
    "    label = item.read().split(\"\\n\")"
   ]
  },
  {
   "cell_type": "code",
   "execution_count": null,
   "metadata": {},
   "outputs": [],
   "source": [
    "print(label)"
   ]
  },
  {
   "cell_type": "code",
   "execution_count": null,
   "metadata": {},
   "outputs": [],
   "source": [
    "# Resizing the model\n",
    "model.setInputSize(320, 320)\n",
    "model.setInputScale(1.0 / 127.5)\n",
    "model.setInputMean((127.5, 127.5, 127.5))\n",
    "model.setInputSwapRB(True)"
   ]
  },
  {
   "cell_type": "markdown",
   "metadata": {},
   "source": [
    "# Object Detection Algorithm"
   ]
  },
  {
   "cell_type": "code",
   "execution_count": null,
   "metadata": {},
   "outputs": [],
   "source": [
    "cam = cv.VideoCapture(\"C:\\\\Users\\\\ankit\\\\Downloads\\\\CCTV_demo.mp4\")\n",
    "while True:\n",
    "    rect, frame = cam.read()\n",
    "    classindex, confidece, box = model.detect(frame, confThreshold=0.5)\n",
    "    for classin, conf, boxxx in zip(classindex.flatten(), confidece.flatten(), box):\n",
    "        if classin <= 80:\n",
    "            cv.rectangle(frame, boxxx, (255, 0, 0), 2)\n",
    "            cv.putText(\n",
    "                frame,\n",
    "                label[classin - 1],\n",
    "                (boxxx[0] + 10, boxxx[1] + 40),\n",
    "                cv.FONT_HERSHEY_SIMPLEX,\n",
    "                1,\n",
    "                (0, 255, 0),\n",
    "                2,\n",
    "                cv.LINE_AA,\n",
    "            )\n",
    "        cv.imshow(\"\", frame)\n",
    "        waitkey = cv.waitKey(1)\n",
    "        if waitkey == ord(\"q\"):\n",
    "            break\n",
    "cam.release()\n",
    "cv.destroyAllWindows()"
   ]
  }
 ],
 "metadata": {
  "kernelspec": {
   "display_name": "Python 3",
   "language": "python",
   "name": "python3"
  },
  "language_info": {
   "codemirror_mode": {
    "name": "ipython",
    "version": 3
   },
   "file_extension": ".py",
   "mimetype": "text/x-python",
   "name": "python",
   "nbconvert_exporter": "python",
   "pygments_lexer": "ipython3",
   "version": "3.8.8"
  }
 },
 "nbformat": 4,
 "nbformat_minor": 4
}
